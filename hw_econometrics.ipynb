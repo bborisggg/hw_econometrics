{
  "cells": [
    {
      "cell_type": "markdown",
      "metadata": {
        "id": "view-in-github",
        "colab_type": "text"
      },
      "source": [
        "<a href=\"https://colab.research.google.com/github/bborisggg/hw_econometrics/blob/main/hw_econometrics.ipynb\" target=\"_parent\"><img src=\"https://colab.research.google.com/assets/colab-badge.svg\" alt=\"Open In Colab\"/></a>"
      ]
    },
    {
      "cell_type": "markdown",
      "id": "ce114617",
      "metadata": {
        "id": "ce114617"
      },
      "source": [
        "Опираемся на одну из возможных спецификаций модели:\n",
        "\n",
        "https://doi.org/10.1108/IJOEM-10-2018-0551"
      ]
    },
    {
      "cell_type": "markdown",
      "id": "be760e83",
      "metadata": {
        "id": "be760e83"
      },
      "source": [
        "Берем из статьи набор переменных"
      ]
    },
    {
      "cell_type": "markdown",
      "id": "cb8a4366",
      "metadata": {
        "id": "cb8a4366"
      },
      "source": [
        "$$X_t = (\\Delta oilp_t ; ygap_t ; \\Delta ms_t ; \\Delta ir_t ; \\Delta er_t; \\Delta cpi_t)'$$"
      ]
    },
    {
      "cell_type": "markdown",
      "id": "a544ec64",
      "metadata": {
        "id": "a544ec64"
      },
      "source": [
        "Отсюда берем данные по цене на нефть марки Brent\n",
        "https://fred.stlouisfed.org/series/MCOILBRENTEU"
      ]
    },
    {
      "cell_type": "code",
      "execution_count": null,
      "id": "3fdf987f",
      "metadata": {
        "id": "3fdf987f"
      },
      "outputs": [],
      "source": []
    }
  ],
  "metadata": {
    "kernelspec": {
      "display_name": "Python 3 (ipykernel)",
      "language": "python",
      "name": "python3"
    },
    "language_info": {
      "codemirror_mode": {
        "name": "ipython",
        "version": 3
      },
      "file_extension": ".py",
      "mimetype": "text/x-python",
      "name": "python",
      "nbconvert_exporter": "python",
      "pygments_lexer": "ipython3",
      "version": "3.11.5"
    },
    "colab": {
      "provenance": [],
      "include_colab_link": true
    }
  },
  "nbformat": 4,
  "nbformat_minor": 5
}