{
  "nbformat": 4,
  "nbformat_minor": 0,
  "metadata": {
    "colab": {
      "provenance": [],
      "authorship_tag": "ABX9TyP9pcjOf2+zzfHkwBa4haNp",
      "include_colab_link": true
    },
    "kernelspec": {
      "name": "python3",
      "display_name": "Python 3"
    },
    "language_info": {
      "name": "python"
    }
  },
  "cells": [
    {
      "cell_type": "markdown",
      "metadata": {
        "id": "view-in-github",
        "colab_type": "text"
      },
      "source": [
        "<a href=\"https://colab.research.google.com/github/bborisggg/hw_econometrics/blob/main/SVAR.ipynb\" target=\"_parent\"><img src=\"https://colab.research.google.com/assets/colab-badge.svg\" alt=\"Open In Colab\"/></a>"
      ]
    },
    {
      "cell_type": "code",
      "execution_count": null,
      "metadata": {
        "id": "YOy_C_zznTIB"
      },
      "outputs": [],
      "source": [
        "!rm -rf hw_econometrics"
      ]
    },
    {
      "cell_type": "code",
      "source": [
        "!git clone https://github.com/bborisggg/hw_econometrics"
      ],
      "metadata": {
        "id": "sIY_QAJFnUQX"
      },
      "execution_count": null,
      "outputs": []
    },
    {
      "cell_type": "code",
      "source": [
        "import numpy as np\n",
        "import pandas as pd\n",
        "\n",
        "from statsmodels.tsa.seasonal import seasonal_decompose\n",
        "from statsmodels.tsa.stattools import adfuller, kpss\n",
        "from statsmodels.graphics.tsaplots import plot_acf, plot_pacf\n",
        "from statsmodels.tsa.arima.model import ARIMA\n",
        "\n",
        "import matplotlib.pyplot as plt\n",
        "from matplotlib import gridspec"
      ],
      "metadata": {
        "id": "E2UxObyOnWug"
      },
      "execution_count": null,
      "outputs": []
    },
    {
      "cell_type": "markdown",
      "source": [
        "В данном коде мы непосредственно реализуем модель SVAR для собранных данных"
      ],
      "metadata": {
        "id": "IenOHP4_nZzp"
      }
    },
    {
      "cell_type": "code",
      "source": [
        "df = pd.read_excel('hw_econometrics/data.xlsx')"
      ],
      "metadata": {
        "id": "9fJgLOS8nZUg"
      },
      "execution_count": null,
      "outputs": []
    }
  ]
}